{
 "cells": [
  {
   "cell_type": "code",
   "execution_count": null,
   "metadata": {},
   "outputs": [],
   "source": [
    "# data\n",
    "import numpy as np\n",
    "import pandas as pd\n",
    "from datetime import datetime\n",
    "\n",
    "# visualization\n",
    "import matplotlib.pyplot as plt\n",
    "%matplotlib inline\n",
    "from ggplot import *\n",
    "plt.style.use('ggplot') \n",
    "\n",
    "# for maps\n",
    "from mapboxgl.utils import *\n",
    "from mapboxgl.viz import *\n",
    "import geojson"
   ]
  },
  {
   "cell_type": "markdown",
   "metadata": {},
   "source": [
    "## Load old hubway data"
   ]
  },
  {
   "cell_type": "code",
   "execution_count": null,
   "metadata": {},
   "outputs": [],
   "source": [
    "file_path_2011 = './camb-hubway-data/hubway_Trips_2011.csv'\n",
    "file_path_2012 = './camb-hubway-data/hubway_Trips_2012.csv'\n",
    "file_path_2013 = './camb-hubway-data/hubway_Trips_2013.csv'\n",
    "file_path_2014_1 = './camb-hubway-data/hubway_Trips_2014_1.csv'\n",
    "file_path_2014_2 = './camb-hubway-data/hubway_Trips_2014_2.csv'\n",
    "data_2011 = pd.read_csv(file_path_2011)\n",
    "data_2012 = pd.read_csv(file_path_2012)\n",
    "data_2013 = pd.read_csv(file_path_2013)\n",
    "data_2014_1 = pd.read_csv(file_path_2014_1)\n",
    "data_2014_2 = pd.read_csv(file_path_2014_2)\n",
    "data_2014 = pd.concat([data_2014_1, data_2014_2])\n",
    "old_data = pd.concat([data_2011, data_2012, data_2013, data_2014])"
   ]
  },
  {
   "cell_type": "markdown",
   "metadata": {},
   "source": [
    "## Load new hubway data\n",
    "### 2015 data"
   ]
  },
  {
   "cell_type": "code",
   "execution_count": null,
   "metadata": {},
   "outputs": [],
   "source": [
    "file_path_2015_1 = './camb-hubway-data/201501-hubway-tripdata.csv'\n",
    "file_path_2015_2 = './camb-hubway-data/201502-hubway-tripdata.csv'\n",
    "file_path_2015_3 = './camb-hubway-data/201503-hubway-tripdata.csv'\n",
    "file_path_2015_4 = './camb-hubway-data/201504-hubway-tripdata.csv'\n",
    "file_path_2015_5 = './camb-hubway-data/201505-hubway-tripdata.csv'\n",
    "file_path_2015_6 = './camb-hubway-data/201506-hubway-tripdata.csv'\n",
    "file_path_2015_7 = './camb-hubway-data/201507-hubway-tripdata.csv'\n",
    "file_path_2015_8 = './camb-hubway-data/201508-hubway-tripdata.csv'\n",
    "file_path_2015_9 = './camb-hubway-data/201509-hubway-tripdata.csv'\n",
    "file_path_2015_10 = './camb-hubway-data/201510-hubway-tripdata.csv'\n",
    "file_path_2015_11 = './camb-hubway-data/201511-hubway-tripdata.csv'\n",
    "file_path_2015_12 = './camb-hubway-data/201512-hubway-tripdata.csv'\n",
    "data_2015_1 = pd.read_csv(file_path_2015_1)\n",
    "data_2015_2 = pd.read_csv(file_path_2015_2)\n",
    "data_2015_3 = pd.read_csv(file_path_2015_3)\n",
    "data_2015_4 = pd.read_csv(file_path_2015_4)\n",
    "data_2015_5 = pd.read_csv(file_path_2015_5)\n",
    "data_2015_6 = pd.read_csv(file_path_2015_6)\n",
    "data_2015_7 = pd.read_csv(file_path_2015_7)\n",
    "data_2015_8 = pd.read_csv(file_path_2015_8)\n",
    "data_2015_9 = pd.read_csv(file_path_2015_9)\n",
    "data_2015_10 = pd.read_csv(file_path_2015_10)\n",
    "data_2015_11 = pd.read_csv(file_path_2015_11)\n",
    "data_2015_12 = pd.read_csv(file_path_2015_12)\n",
    "data_2015 = pd.concat([data_2015_1, data_2015_2, data_2015_3, data_2015_4, data_2015_5, data_2015_6, data_2015_7, data_2015_8, data_2015_9, data_2015_10, data_2015_11, data_2015_12])"
   ]
  },
  {
   "cell_type": "markdown",
   "metadata": {},
   "source": [
    "### 2016 data"
   ]
  },
  {
   "cell_type": "code",
   "execution_count": null,
   "metadata": {},
   "outputs": [],
   "source": [
    "file_path_2016_1 = './camb-hubway-data/201601-hubway-tripdata.csv'\n",
    "file_path_2016_2 = './camb-hubway-data/201602-hubway-tripdata.csv'\n",
    "file_path_2016_3 = './camb-hubway-data/201603-hubway-tripdata.csv'\n",
    "file_path_2016_4 = './camb-hubway-data/201604-hubway-tripdata.csv'\n",
    "file_path_2016_5 = './camb-hubway-data/201605-hubway-tripdata.csv'\n",
    "file_path_2016_6 = './camb-hubway-data/201606-hubway-tripdata.csv'\n",
    "file_path_2016_7 = './camb-hubway-data/201607-hubway-tripdata.csv'\n",
    "file_path_2016_8 = './camb-hubway-data/201608-hubway-tripdata.csv'\n",
    "file_path_2016_9 = './camb-hubway-data/201609-hubway-tripdata.csv'\n",
    "file_path_2016_10 = './camb-hubway-data/201610-hubway-tripdata.csv'\n",
    "file_path_2016_11 = './camb-hubway-data/201611-hubway-tripdata.csv'\n",
    "data_2016_1 = pd.read_csv(file_path_2016_1)\n",
    "data_2016_2 = pd.read_csv(file_path_2016_2)\n",
    "data_2016_3 = pd.read_csv(file_path_2016_3)\n",
    "data_2016_4 = pd.read_csv(file_path_2016_4)\n",
    "data_2016_5 = pd.read_csv(file_path_2016_5)\n",
    "data_2016_6 = pd.read_csv(file_path_2016_6)\n",
    "data_2016_7 = pd.read_csv(file_path_2016_7)\n",
    "data_2016_8 = pd.read_csv(file_path_2016_8)\n",
    "data_2016_9 = pd.read_csv(file_path_2016_9)\n",
    "data_2016_10 = pd.read_csv(file_path_2016_10)\n",
    "data_2016_11 = pd.read_csv(file_path_2016_11)\n",
    "data_2016 = pd.concat([data_2016_1, data_2016_2, data_2016_3, data_2016_4, data_2016_5, data_2016_6, data_2016_7, data_2016_8, data_2016_9, data_2016_10, data_2016_11])"
   ]
  },
  {
   "cell_type": "markdown",
   "metadata": {},
   "source": [
    "### 2017 data"
   ]
  },
  {
   "cell_type": "code",
   "execution_count": null,
   "metadata": {},
   "outputs": [],
   "source": [
    "file_path_2017_1 = './camb-hubway-data/201701-hubway-tripdata.csv'\n",
    "file_path_2017_2 = './camb-hubway-data/201702-hubway-tripdata.csv'\n",
    "file_path_2017_3 = './camb-hubway-data/201703-hubway-tripdata.csv'\n",
    "file_path_2017_4 = './camb-hubway-data/201704-hubway-tripdata.csv'\n",
    "file_path_2017_5 = './camb-hubway-data/201705-hubway-tripdata.csv'\n",
    "file_path_2017_6 = './camb-hubway-data/201706-hubway-tripdata.csv'\n",
    "file_path_2017_7 = './camb-hubway-data/201707-hubway-tripdata.csv'\n",
    "file_path_2017_8 = './camb-hubway-data/201708-hubway-tripdata.csv'\n",
    "file_path_2017_9 = './camb-hubway-data/201709-hubway-tripdata.csv'\n",
    "file_path_2017_10 = './camb-hubway-data/201710-hubway-tripdata.csv'\n",
    "file_path_2017_11 = './camb-hubway-data/201711-hubway-tripdata.csv'\n",
    "file_path_2017_12 = './camb-hubway-data/201712-hubway-tripdata.csv'\n",
    "data_2017_1 = pd.read_csv(file_path_2017_1)\n",
    "data_2017_2 = pd.read_csv(file_path_2017_2)\n",
    "data_2017_3 = pd.read_csv(file_path_2017_3)\n",
    "data_2017_4 = pd.read_csv(file_path_2017_4)\n",
    "data_2017_5 = pd.read_csv(file_path_2017_5)\n",
    "data_2017_6 = pd.read_csv(file_path_2017_6)\n",
    "data_2017_7 = pd.read_csv(file_path_2017_7)\n",
    "data_2017_8 = pd.read_csv(file_path_2017_8)\n",
    "data_2017_9 = pd.read_csv(file_path_2017_9)\n",
    "data_2017_10 = pd.read_csv(file_path_2017_10)\n",
    "data_2017_11 = pd.read_csv(file_path_2017_11)\n",
    "data_2017_12 = pd.read_csv(file_path_2017_12)\n",
    "data_2017 = pd.concat([data_2017_1, data_2017_2, data_2017_3, data_2017_4, data_2017_5, data_2017_6, data_2017_7, data_2017_8, data_2017_9, data_2017_10, data_2017_11, data_2017_12])"
   ]
  },
  {
   "cell_type": "code",
   "execution_count": null,
   "metadata": {},
   "outputs": [],
   "source": [
    "new_data = pd.concat([data_2015, data_2016, data_2017])"
   ]
  },
  {
   "cell_type": "markdown",
   "metadata": {},
   "source": [
    "## Load Station data"
   ]
  },
  {
   "cell_type": "code",
   "execution_count": null,
   "metadata": {},
   "outputs": [],
   "source": [
    "file_path_old_stations = './camb-hubway-data/Hubway_Stations_2011_2016.csv'\n",
    "old_station_data = pd.read_csv(file_path_old_stations)"
   ]
  },
  {
   "cell_type": "code",
   "execution_count": null,
   "metadata": {},
   "outputs": [],
   "source": [
    "file_path_new_stations = './camb-hubway-data/Hubway_Stations_as_of_July_2017.csv'\n",
    "new_station_data = pd.read_csv(file_path_new_stations)"
   ]
  },
  {
   "cell_type": "code",
   "execution_count": null,
   "metadata": {},
   "outputs": [],
   "source": [
    "station_data = pd.merge(new_station_data, old_station_data, on=['Station ID', 'Latitude', 'Longitude', 'Municipality', '# of Docks'], how='outer')\n",
    "\n",
    "# Setup dicts for quicker inserting\n",
    "latitudes = dict(station_data[['Station ID', 'Latitude']].values)\n",
    "longitudes = dict(station_data[['Station ID', 'Longitude']].values)\n",
    "municipalities = dict(station_data[['Station ID', 'Municipality']].values)"
   ]
  },
  {
   "cell_type": "code",
   "execution_count": null,
   "metadata": {},
   "outputs": [],
   "source": [
    "# for faster conversions\n",
    "new_station_ids = dict(new_station_data[['Station', 'Station ID']].values)\n",
    "old_station_ids = dict(old_station_data[['Station', 'Station ID']].values)\n",
    "station_ids = {**new_station_ids, **old_station_ids}\n",
    "new_station_names = dict(station_data[['Station ID', 'Station_x']].values)"
   ]
  },
  {
   "cell_type": "markdown",
   "metadata": {},
   "source": [
    "# Data Wrangling\n",
    "In order to have one master dataframe of all the Hubway data from 2011 to 2017, we'll need to combine the data. The old_data and new_data frames vary slightly in columns. So in order to combine them we'll have to make sure to merge the appropriate columns where the names are different.\n",
    "\n",
    "Here's how they map:\n",
    "- Duration -> tripduration (where Duration is in milliseconds and tripduration is in seconds)\n",
    "- Start date -> starttime (where Start date is in mm/dd/yyyy hh:mm format and starttime is in yyyy-mm-dd hh:mm:ss format)\n",
    "- End date -> stoptime (where End date is in mm/dd/yyyy hh:mm format and stoptime is in yyyy-mm-dd hh:mm:ss format)\n",
    "- Start station name -> start station name\n",
    "- End station name -> end station name\n",
    "- start station latitude -> lookup from station data based on Start station number\n",
    "- start station longitude -> lookup from station data based on start Station number\n",
    "- end station latitude -> lookup from station data based on End station number\n",
    "- end station longitude -> lookup from station data based on End station number\n",
    "- Bike number -> bikeid ?\n",
    "- Start station number -> start station id ?\n",
    "- End station number -> end station id ?\n",
    "- Member type -> usertype (where Member = Subscriber, Casual = Customer)\n",
    "- Gender -> gender (where Male = 1, Female = 2)"
   ]
  },
  {
   "cell_type": "code",
   "execution_count": null,
   "metadata": {},
   "outputs": [],
   "source": [
    "# Convert old_data to use new_data column names and data formats, where appropriate\n",
    "# First rename the columns\n",
    "renamed_old_data = old_data.rename(columns={\"Duration\": \"tripduration\", \"Start date\": \"starttime\", \"End date\": \"stoptime\", \"Start station name\": \"start station name\", \"End station name\": \"end station name\", \"Gender\": \"gender\", \"Member type\": \"usertype\", \"Bike number\": \"bikeid\", \"Start station number\": \"start station id\", \"End station number\": \"end station id\"})\n",
    "# Then convert data in columns to match\n",
    "# convert tripduration\n",
    "renamed_old_data['tripduration'] = renamed_old_data['tripduration'].apply(lambda x: (int(x)/1000))\n",
    "# convert starttime\n",
    "renamed_old_data['starttime'] = renamed_old_data['starttime'].apply(lambda x: datetime.strptime(x, '%m/%d/%Y %H:%M'))\n",
    "# convert stoptime\n",
    "renamed_old_data['stoptime'] = renamed_old_data['stoptime'].apply(lambda x: datetime.strptime(x, '%m/%d/%Y %H:%M'))\n",
    "# convert usertype\n",
    "renamed_old_data['usertype'] = renamed_old_data['usertype'].apply(lambda x: 'Subscriber' if x == 'Member' else 'Customer')\n",
    "# convert gender\n",
    "renamed_old_data['gender'] = renamed_old_data['gender'].apply(lambda x: 1 if x == 'Male' else 2 if x == 'Female' else 0)"
   ]
  },
  {
   "cell_type": "code",
   "execution_count": null,
   "metadata": {},
   "outputs": [],
   "source": [
    "# # add start station lat and long\n",
    "renamed_old_data['start station latitude'] = renamed_old_data['start station id'].apply(lambda x: latitudes.get(x, np.nan))\n",
    "renamed_old_data['start station longitude'] = renamed_old_data['start station id'].apply(lambda x: longitudes.get(x, np.nan))"
   ]
  },
  {
   "cell_type": "code",
   "execution_count": null,
   "metadata": {},
   "outputs": [],
   "source": [
    "# add end station lat and long\n",
    "renamed_old_data['end station latitude'] = renamed_old_data['end station id'].apply(lambda x: latitudes.get(x, np.nan))\n",
    "renamed_old_data['end station longitude'] = renamed_old_data['end station id'].apply(lambda x: longitudes.get(x, np.nan))"
   ]
  },
  {
   "cell_type": "code",
   "execution_count": null,
   "metadata": {},
   "outputs": [],
   "source": [
    "new_data['start station id'] = new_data['start station name'].apply(lambda x: station_ids.get(x, np.nan))\n",
    "new_data['end station id'] = new_data['end station name'].apply(lambda x: station_ids.get(x, np.nan))"
   ]
  },
  {
   "cell_type": "code",
   "execution_count": null,
   "metadata": {},
   "outputs": [],
   "source": [
    "combined_data = pd.concat([renamed_old_data, new_data])"
   ]
  },
  {
   "cell_type": "markdown",
   "metadata": {},
   "source": [
    "## Filter for Only Cambridge related trips\n",
    "\n",
    "This analysis only cares about Hubway trips in Cambridge, MA so it should filter out all Hubway trips that didn't start or end in Cambridge."
   ]
  },
  {
   "cell_type": "code",
   "execution_count": null,
   "metadata": {},
   "outputs": [],
   "source": [
    "# add start and end municipalities for easier filtering\n",
    "combined_data['start station municipality'] = combined_data['start station id'].apply(lambda x: municipalities.get(x, np.nan))\n",
    "combined_data['end station municipality'] = combined_data['end station id'].apply(lambda x: municipalities.get(x, np.nan))"
   ]
  },
  {
   "cell_type": "code",
   "execution_count": null,
   "metadata": {},
   "outputs": [],
   "source": [
    "# fill in municipality for NaNs\n",
    "missing_start_station_df = combined_data[combined_data['start station municipality'].isnull()][['start station name', 'start station latitude', 'start station longitude']]\n",
    "missing_end_station_df = combined_data[combined_data['end station municipality'].isnull()][['end station name', 'end station latitude', 'end station longitude']]\n",
    "\n",
    "# rename for combining\n",
    "missing_start_station_df = missing_start_station_df.rename(columns={\"start station name\": \"name\", \"start station latitude\": \"lat\", \"start station longitude\": \"long\"})\n",
    "missing_end_station_df = missing_end_station_df.rename(columns={\"end station name\": \"name\", \"end station latitude\": \"lat\", \"end station longitude\": \"long\"})\n",
    "combined_missing_stations_df = pd.concat([missing_start_station_df, missing_end_station_df])\n",
    "\n",
    "combined_missing_stations_df = combined_missing_stations_df.drop_duplicates()\n",
    "drop_rows = combined_missing_stations_df.index[(combined_missing_stations_df['lat'] == 0.0)].tolist()\n",
    "combined_missing_stations_df = combined_missing_stations_df.drop(drop_rows)\n",
    "drop_rows = combined_missing_stations_df.index[(combined_missing_stations_df['lat'] == '\\\\N')].tolist()\n",
    "combined_missing_stations_df = combined_missing_stations_df.drop(drop_rows)\n",
    "\n",
    "combined_missing_stations_df['coordinates'] = str(combined_missing_stations_df['lat']) + ', ' + str(combined_missing_stations_df['long'])"
   ]
  },
  {
   "cell_type": "code",
   "execution_count": null,
   "metadata": {},
   "outputs": [],
   "source": [
    "# import data for the missing stations\n",
    "missing_stations_data = pd.read_csv('./camb-hubway-data/Hubway-missing-stations.csv')\n",
    "missing_municipalities = dict(missing_stations_data[['name', 'city']].values)\n",
    "combined_missing_stations_df['municipality'] = combined_missing_stations_df['name'].apply(lambda x: missing_municipalities.get(x, np.nan))"
   ]
  },
  {
   "cell_type": "code",
   "execution_count": null,
   "metadata": {},
   "outputs": [],
   "source": [
    "# Replace NaNs with new data\n",
    "combined_data.loc[combined_data['start station municipality'].isnull(), 'start station municipality'] = combined_data.loc[combined_data['start station municipality'].isnull(), 'start station name'].apply(lambda x: missing_municipalities.get(x, np.nan))\n",
    "combined_data.loc[combined_data['end station municipality'].isnull(), 'end station municipality'] = combined_data.loc[combined_data['end station municipality'].isnull(), 'end station name'].apply(lambda x: missing_municipalities.get(x, np.nan))"
   ]
  },
  {
   "cell_type": "code",
   "execution_count": null,
   "metadata": {},
   "outputs": [],
   "source": [
    "# Drop any rows that weren't filled, there should be only a few, i.e. < 50 each\n",
    "combined_data = combined_data.dropna(subset=['start station municipality', 'end station municipality'])"
   ]
  },
  {
   "cell_type": "code",
   "execution_count": null,
   "metadata": {},
   "outputs": [],
   "source": [
    "# pull only trips that either started or ended in Cambridge\n",
    "cambridge_trips = combined_data[(combined_data['start station municipality'] == 'Cambridge') | (combined_data['end station municipality'] == 'Cambridge')].reset_index()"
   ]
  },
  {
   "cell_type": "markdown",
   "metadata": {},
   "source": [
    "# Questions\n",
    "\n",
    "A list of questions I'm interested in answering:\n",
    "* What was the most common ride amongst all Cambridge Hubway trips?\n",
    "* Where do Cambridge riders typically go in the morning?\n",
    "* Where do Cambridge riders typically go in the evenings?\n",
    "* How many rides in Cambridge are done on the weekend? Weekdays?\n",
    "* Where do the most rides start when people come to Cambridge?\n",
    "* Where do the most rides end when people leave Cambridge?\n",
    "* What time of day is most popular for Cambridge rides to start?\n",
    "* What time of day is most popular for Cambridge rides to end?\n",
    "* How do Cambridge rides in aggregate look over time?\n",
    "* How many trips were just in Cambridge (start and finish)?\n",
    "* How many trips started in Cambridge but ended elsewhere?\n",
    "* How many trips started elsewhere but ended in Cambridge?\n",
    "* Cambridge Hubway rides by sex\n",
    "* Ridership by age"
   ]
  },
  {
   "cell_type": "code",
   "execution_count": null,
   "metadata": {},
   "outputs": [],
   "source": [
    "# rename all stations so they are consistant for data analysis\n",
    "cambridge_trips['start station name'] = cambridge_trips['start station id'].apply(lambda x: new_station_names.get(x))"
   ]
  },
  {
   "cell_type": "code",
   "execution_count": null,
   "metadata": {},
   "outputs": [],
   "source": [
    "cambridge_trips['end station name'] = cambridge_trips['end station id'].apply(lambda x: new_station_names.get(x))"
   ]
  },
  {
   "cell_type": "code",
   "execution_count": null,
   "metadata": {},
   "outputs": [],
   "source": [
    "# convert data types for better analysis\n",
    "cambridge_trips['starttime'] = cambridge_trips['starttime'].apply(lambda x: pd.to_datetime(x))\n",
    "cambridge_trips['stoptime'] = cambridge_trips['stoptime'].apply(lambda x: pd.to_datetime(x))"
   ]
  },
  {
   "cell_type": "code",
   "execution_count": null,
   "metadata": {},
   "outputs": [],
   "source": [
    "# Add new columns for easier data analysis\n",
    "cambridge_trips['trip stations'] = cambridge_trips['start station name'] + ' - ' + cambridge_trips['end station name']\n",
    "cambridge_trips['trip cities'] = cambridge_trips['start station municipality'] + ' - ' + cambridge_trips['end station municipality']"
   ]
  },
  {
   "cell_type": "code",
   "execution_count": null,
   "metadata": {},
   "outputs": [],
   "source": [
    "# data setup for time analysis\n",
    "cambridge_trips['starttime'] = cambridge_trips['starttime'].apply(lambda x: pd.to_datetime(x))\n",
    "cambridge_trips['stoptime'] = cambridge_trips['stoptime'].apply(lambda x: pd.to_datetime(x))"
   ]
  },
  {
   "cell_type": "code",
   "execution_count": null,
   "metadata": {},
   "outputs": [],
   "source": [
    "cambridge_trips['date'] = cambridge_trips['starttime'].apply(lambda x: pd.to_datetime(x.date()))"
   ]
  },
  {
   "cell_type": "markdown",
   "metadata": {},
   "source": [
    "## What was the most common ride amongst all Cambridge Hubway trips?"
   ]
  },
  {
   "cell_type": "code",
   "execution_count": null,
   "metadata": {},
   "outputs": [],
   "source": [
    "trip_groups = cambridge_trips.groupby(['trip stations'])\n",
    "popular_trips_df = trip_groups.size().to_frame(name='# of trips').reset_index()"
   ]
  },
  {
   "cell_type": "code",
   "execution_count": null,
   "metadata": {},
   "outputs": [],
   "source": [
    "popular_trips_df = popular_trips_df.sort_values('# of trips', ascending=False).head(10)"
   ]
  },
  {
   "cell_type": "code",
   "execution_count": null,
   "metadata": {},
   "outputs": [],
   "source": [
    "popular_trips_df.to_csv('camb-hubway-data/most-popular-trips.csv')"
   ]
  },
  {
   "cell_type": "code",
   "execution_count": null,
   "metadata": {},
   "outputs": [],
   "source": [
    "cambridge_trips['trip stations'].value_counts(normalize=True).head().mul(100).round(1).astype(str) + '%'"
   ]
  },
  {
   "cell_type": "code",
   "execution_count": null,
   "metadata": {},
   "outputs": [],
   "source": [
    "origin_groups = cambridge_trips.groupby(['start station name'])\n",
    "origins_df = origin_groups.size().to_frame(name=\"# of trips\").reset_index()"
   ]
  },
  {
   "cell_type": "code",
   "execution_count": null,
   "metadata": {},
   "outputs": [],
   "source": [
    "origins_df = origins_df.sort_values('# of trips', ascending=False).head(10)"
   ]
  },
  {
   "cell_type": "code",
   "execution_count": null,
   "metadata": {},
   "outputs": [],
   "source": [
    "origins_df.to_csv('camb-hubway-data/most-popular-origins.csv')"
   ]
  },
  {
   "cell_type": "code",
   "execution_count": null,
   "metadata": {},
   "outputs": [],
   "source": [
    "cambridge_trips['start station name'].value_counts(normalize=True).head().mul(100).round(1).astype(str) + '%'"
   ]
  },
  {
   "cell_type": "code",
   "execution_count": null,
   "metadata": {},
   "outputs": [],
   "source": [
    "destination_groups = cambridge_trips.groupby(['end station name'])\n",
    "destination_df = destination_groups.size().to_frame(name=\"# of trips\").reset_index()\n",
    "destination_df = destination_df.sort_values('# of trips', ascending=False).head(10)\n",
    "destination_df.to_csv('camb-hubway-data/most-popular-destinations.csv')"
   ]
  },
  {
   "cell_type": "code",
   "execution_count": null,
   "metadata": {},
   "outputs": [],
   "source": [
    "cambridge_trips['end station name'].value_counts(normalize=True).head().mul(100).round(1).astype(str) + '%'"
   ]
  },
  {
   "cell_type": "markdown",
   "metadata": {},
   "source": [
    "## Where do Cambridge riders typically go in the morning?"
   ]
  },
  {
   "cell_type": "code",
   "execution_count": null,
   "metadata": {},
   "outputs": [],
   "source": [
    "# morning trips: 4am - 11am\n",
    "cambridge_trips['morning trip'] = cambridge_trips['starttime'].apply(lambda x: 4 <= x.hour < 12)"
   ]
  },
  {
   "cell_type": "code",
   "execution_count": null,
   "metadata": {},
   "outputs": [],
   "source": [
    "cambridge_trips[(cambridge_trips['morning trip'] == True)]['end station name'].value_counts().head(10)"
   ]
  },
  {
   "cell_type": "code",
   "execution_count": null,
   "metadata": {},
   "outputs": [],
   "source": [
    "cambridge_trips[(cambridge_trips['morning trip'] == True)]['end station name'].value_counts(normalize=True).head(10).mul(100).round(1).astype(str) + '%'"
   ]
  },
  {
   "cell_type": "code",
   "execution_count": null,
   "metadata": {},
   "outputs": [],
   "source": [
    "cambridge_trips[(cambridge_trips['morning trip'] == True)]['trip stations'].value_counts(normalize=True).head().mul(100).round(1).astype(str) + '%'"
   ]
  },
  {
   "cell_type": "markdown",
   "metadata": {},
   "source": [
    "## Where do Cambridge riders typically start in the morning?"
   ]
  },
  {
   "cell_type": "code",
   "execution_count": null,
   "metadata": {},
   "outputs": [],
   "source": [
    "cambridge_trips[(cambridge_trips['morning trip'] == True)]['start station name'].value_counts(normalize=True).head().mul(100).round(1).astype(str) + '%'"
   ]
  },
  {
   "cell_type": "markdown",
   "metadata": {},
   "source": [
    "## Where do Cambridge riders typically go in the evenings?"
   ]
  },
  {
   "cell_type": "code",
   "execution_count": null,
   "metadata": {},
   "outputs": [],
   "source": [
    "# evening trips: 4-9pm\n",
    "cambridge_trips['evening trip'] = cambridge_trips['starttime'].apply(lambda x:  16 <= x.hour <= 21)"
   ]
  },
  {
   "cell_type": "code",
   "execution_count": null,
   "metadata": {},
   "outputs": [],
   "source": [
    "cambridge_trips[(cambridge_trips['evening trip'] == True)]['end station name'].value_counts().head()"
   ]
  },
  {
   "cell_type": "code",
   "execution_count": null,
   "metadata": {},
   "outputs": [],
   "source": [
    "cambridge_trips[(cambridge_trips['evening trip'] == True)]['end station name'].value_counts(normalize=True).head().mul(100).round(1).astype(str) + '%'"
   ]
  },
  {
   "cell_type": "code",
   "execution_count": null,
   "metadata": {},
   "outputs": [],
   "source": [
    "cambridge_trips[(cambridge_trips['evening trip'] == True)]['trip stations'].value_counts(normalize=True).head().mul(100).round(1).astype(str) + '%'"
   ]
  },
  {
   "cell_type": "markdown",
   "metadata": {},
   "source": [
    "## Where do Cambridge riders typically start in the evenings?"
   ]
  },
  {
   "cell_type": "code",
   "execution_count": null,
   "metadata": {},
   "outputs": [],
   "source": [
    "cambridge_trips[(cambridge_trips['evening trip'] == True)]['start station name'].value_counts(normalize=True).head().mul(100).round(1).astype(str) + '%'"
   ]
  },
  {
   "cell_type": "markdown",
   "metadata": {},
   "source": [
    "## How many rides in Cambridge are done on the weekend? Weekdays?"
   ]
  },
  {
   "cell_type": "code",
   "execution_count": null,
   "metadata": {},
   "outputs": [],
   "source": [
    "# Weekdays: M-F, except for late night/early morning trips\n",
    "def is_a_weekday(x):\n",
    "    weekday = False\n",
    "    day = x.weekday()\n",
    "    if 0 <= day < 5:\n",
    "        if day == 0:\n",
    "            if x.hour >= 4:\n",
    "                weekday = True\n",
    "        elif day == 4:\n",
    "            if x.hour <= 22:\n",
    "                weekday = True\n",
    "        else:\n",
    "            weekday = True\n",
    "        \n",
    "    return weekday\n",
    "cambridge_trips['weekday trip'] = cambridge_trips['starttime'].apply(is_a_weekday)"
   ]
  },
  {
   "cell_type": "code",
   "execution_count": null,
   "metadata": {},
   "outputs": [],
   "source": [
    "cambridge_trips['weekday trip'].value_counts()"
   ]
  },
  {
   "cell_type": "code",
   "execution_count": null,
   "metadata": {},
   "outputs": [],
   "source": [
    "cambridge_trips['weekday trip'].value_counts(normalize=True).mul(100).round(1).astype(str) + '%'"
   ]
  },
  {
   "cell_type": "code",
   "execution_count": null,
   "metadata": {},
   "outputs": [],
   "source": [
    "weekday_trips_count = len(cambridge_trips[(cambridge_trips['weekday trip'] == True)])\n",
    "avg_weekday_trips = weekday_trips_count / 5"
   ]
  },
  {
   "cell_type": "code",
   "execution_count": null,
   "metadata": {},
   "outputs": [],
   "source": [
    "weekend_trips_count = len(cambridge_trips[(cambridge_trips['weekday trip'] == False)])\n",
    "avg_weekend_trips = weekend_trips_count / 2"
   ]
  },
  {
   "cell_type": "code",
   "execution_count": null,
   "metadata": {},
   "outputs": [],
   "source": [
    "avg_day_trips_data = {'': ['Avg Weekday Trips/Day', 'Avg Weekend Trips/Day'], '# of trips': [avg_weekday_trips, avg_weekend_trips]}\n",
    "days_comp_df = pd.DataFrame(data=avg_day_trips_data)\n",
    "days_comp_df.to_csv('camb-hubway-data/avg-trips-per-day-weekday-vs-weekend.csv')"
   ]
  },
  {
   "cell_type": "code",
   "execution_count": null,
   "metadata": {},
   "outputs": [],
   "source": [
    "days_comp_df.to_csv('camb-hubway-data/avg_rides_per_day_comp.csv')"
   ]
  },
  {
   "cell_type": "code",
   "execution_count": null,
   "metadata": {},
   "outputs": [],
   "source": [
    "cambridge_trips[(cambridge_trips['weekday trip'] == True)]['trip stations'].value_counts(normalize=True).head().mul(100).round(1).astype(str) + '%'"
   ]
  },
  {
   "cell_type": "code",
   "execution_count": null,
   "metadata": {},
   "outputs": [],
   "source": [
    "cambridge_trips[(cambridge_trips['weekday trip'] == True)]['trip cities'].value_counts(normalize=True).head().mul(100).round(1).astype(str) + '%'"
   ]
  },
  {
   "cell_type": "code",
   "execution_count": null,
   "metadata": {},
   "outputs": [],
   "source": [
    "cambridge_trips[(cambridge_trips['weekday trip'] == False)]['trip stations'].value_counts(normalize=True).head().mul(100).round(1).astype(str) + '%'"
   ]
  },
  {
   "cell_type": "code",
   "execution_count": null,
   "metadata": {},
   "outputs": [],
   "source": [
    "cambridge_trips[(cambridge_trips['weekday trip'] == False)]['trip cities'].value_counts(normalize=True).head().mul(100).round(1).astype(str) + '%'"
   ]
  },
  {
   "cell_type": "markdown",
   "metadata": {},
   "source": [
    "## Where do the most rides start/end when people come to Cambridge (from elsewhere)?"
   ]
  },
  {
   "cell_type": "code",
   "execution_count": null,
   "metadata": {},
   "outputs": [],
   "source": [
    "trips = cambridge_trips['trip cities']\n",
    "trips.value_counts()"
   ]
  },
  {
   "cell_type": "code",
   "execution_count": null,
   "metadata": {},
   "outputs": [],
   "source": [
    "trips.value_counts(normalize=True).mul(100).round(1).astype(str) + '%'"
   ]
  },
  {
   "cell_type": "code",
   "execution_count": null,
   "metadata": {},
   "outputs": [],
   "source": [
    "trips.value_counts(normalize=True)[:-1].plot.barh()"
   ]
  },
  {
   "cell_type": "code",
   "execution_count": null,
   "metadata": {},
   "outputs": [],
   "source": [
    "cambridge_end_trips = cambridge_trips[(cambridge_trips['end station municipality'] == 'Cambridge') & (cambridge_trips['start station municipality'] != 'Cambridge')]['trip cities']"
   ]
  },
  {
   "cell_type": "code",
   "execution_count": null,
   "metadata": {},
   "outputs": [],
   "source": [
    "cambridge_end_trips.value_counts(normalize=True).mul(100).round(1).astype(str) + '%'"
   ]
  },
  {
   "cell_type": "code",
   "execution_count": null,
   "metadata": {},
   "outputs": [],
   "source": [
    "cambridge_end_trips.value_counts(normalize=True).plot.barh()"
   ]
  },
  {
   "cell_type": "code",
   "execution_count": null,
   "metadata": {},
   "outputs": [],
   "source": [
    "cambridge_start_trips = cambridge_trips[(cambridge_trips['start station municipality'] == 'Cambridge') & (cambridge_trips['end station municipality'] != 'Cambridge')]['trip cities']\n",
    "cambridge_start_trips.value_counts(normalize=True).mul(100).round(1).astype(str) + '%'"
   ]
  },
  {
   "cell_type": "code",
   "execution_count": null,
   "metadata": {},
   "outputs": [],
   "source": [
    "cambridge_start_trips.value_counts(normalize=True)[:-1].plot.barh()"
   ]
  },
  {
   "cell_type": "markdown",
   "metadata": {},
   "source": [
    "## How many trips were just in Cambridge (start and finish)?"
   ]
  },
  {
   "cell_type": "code",
   "execution_count": null,
   "metadata": {},
   "outputs": [],
   "source": [
    "trips.value_counts()"
   ]
  },
  {
   "cell_type": "code",
   "execution_count": null,
   "metadata": {},
   "outputs": [],
   "source": [
    "trips.value_counts(normalize=True).mul(100).round(1).astype(str) + '%'"
   ]
  },
  {
   "cell_type": "markdown",
   "metadata": {},
   "source": [
    "## What time of day is most popular for Cambridge rides?"
   ]
  },
  {
   "cell_type": "code",
   "execution_count": null,
   "metadata": {},
   "outputs": [],
   "source": [
    "cambridge_trips['start hour'] = cambridge_trips['starttime'].apply(lambda x: x.hour)\n",
    "cambridge_trips['end hour'] = cambridge_trips['stoptime'].apply(lambda x: x.hour)"
   ]
  },
  {
   "cell_type": "code",
   "execution_count": null,
   "metadata": {},
   "outputs": [],
   "source": [
    "cambridge_trips['start hour'].value_counts().head()"
   ]
  },
  {
   "cell_type": "code",
   "execution_count": null,
   "metadata": {},
   "outputs": [],
   "source": [
    "cambridge_trips['start hour'].value_counts(normalize=True).head().mul(100).round(1).astype(str) + '%'"
   ]
  },
  {
   "cell_type": "code",
   "execution_count": null,
   "metadata": {},
   "outputs": [],
   "source": [
    "start_ranges = pd.cut(cambridge_trips['start hour'], [0, 4, 9, 13, 16, 20, 23], labels=['12am-5am', '5am-10am', '10am-1pm', '1pm-4pm', '4pm-8pm', '8pm-11:59pm'])\n",
    "cambridge_trips['start time range'] = start_ranges\n",
    "start_range_groups = cambridge_trips.groupby(['start time range'])\n",
    "start_range_df = start_range_groups.size().to_frame(name=\"# of trips\").reset_index()\n",
    "start_range_df.to_csv('camb-hubway-data/trip-start-ranges.csv')"
   ]
  },
  {
   "cell_type": "code",
   "execution_count": null,
   "metadata": {},
   "outputs": [],
   "source": [
    "start_ranges.value_counts(normalize=True).mul(100).round(1).astype(str) + '%'"
   ]
  },
  {
   "cell_type": "code",
   "execution_count": null,
   "metadata": {},
   "outputs": [],
   "source": [
    "# Weekend vs Weekday start times\n",
    "weekday_trips = cambridge_trips[(cambridge_trips['weekday trip'] == True)]\n",
    "weekend_trips = cambridge_trips[(cambridge_trips['weekday trip'] == False)]"
   ]
  },
  {
   "cell_type": "code",
   "execution_count": null,
   "metadata": {},
   "outputs": [],
   "source": [
    "weekday_start_ranges = pd.cut(weekday_trips['start hour'], [0, 4, 9, 13, 16, 20, 23], labels=['12am-5am', '5am-10am', '10am-1pm', '1pm-4pm', '4pm-8pm', '8pm-11:59pm'])\n",
    "weekend_start_ranges = pd.cut(weekend_trips['start hour'], [0, 4, 9, 13, 16, 20, 23], labels=['12am-5am', '5am-10am', '10am-1pm', '1pm-4pm', '4pm-8pm', '8pm-11:59pm'])"
   ]
  },
  {
   "cell_type": "code",
   "execution_count": null,
   "metadata": {},
   "outputs": [],
   "source": [
    "cambridge_trips['weekday start time range'] = weekday_start_ranges\n",
    "week_start_range_groups = cambridge_trips.groupby(['weekday start time range'])\n",
    "week_start_range_df = week_start_range_groups.size().to_frame(name=\"# of trips\").reset_index()\n",
    "week_start_range_df.to_csv('camb-hubway-data/trip-weekday-start-ranges.csv')"
   ]
  },
  {
   "cell_type": "code",
   "execution_count": null,
   "metadata": {},
   "outputs": [],
   "source": [
    "weekday_start_ranges.value_counts(normalize=True).mul(100).round(1).astype(str) + '%'"
   ]
  },
  {
   "cell_type": "code",
   "execution_count": null,
   "metadata": {},
   "outputs": [],
   "source": [
    "weekend_start_ranges.value_counts(normalize=True).mul(100).round(1).astype(str) + '%'"
   ]
  },
  {
   "cell_type": "markdown",
   "metadata": {},
   "source": [
    "## Cambridge Hubway rides by sex"
   ]
  },
  {
   "cell_type": "code",
   "execution_count": null,
   "metadata": {},
   "outputs": [],
   "source": [
    "cambridge_trips['sex'] = cambridge_trips['gender'].apply(lambda x: 'Male' if x == 1 else 'Female' if x == 2 else 'Other/Unknown')\n",
    "cambridge_trips['sex'].value_counts()"
   ]
  },
  {
   "cell_type": "code",
   "execution_count": null,
   "metadata": {},
   "outputs": [],
   "source": [
    "cambridge_trips['sex'].value_counts(normalize=True)"
   ]
  },
  {
   "cell_type": "code",
   "execution_count": null,
   "metadata": {},
   "outputs": [],
   "source": [
    "gender_groups = cambridge_trips.groupby(['sex'])\n",
    "gender_trips_df = gender_groups.size().to_frame(name='# of trips').reset_index()\n",
    "gender_trips_df.to_csv('camb-hubway-data/trips-by-gender.csv')"
   ]
  },
  {
   "cell_type": "markdown",
   "metadata": {},
   "source": [
    "## Ridership by age"
   ]
  },
  {
   "cell_type": "code",
   "execution_count": null,
   "metadata": {},
   "outputs": [],
   "source": [
    "birth_years = cambridge_trips['birth year']\n",
    "birth_years = birth_years.where(birth_years != '\\\\N')\n",
    "birth_years = birth_years.dropna()\n",
    "birth_years = birth_years.apply(lambda x: int(x))\n",
    "ages = birth_years.apply(lambda x: (2017 - x))\n",
    "# age ranges\n",
    "age_ranges = pd.cut(ages, [16, 24, 34, 44, 64, 100], labels=['16-24', '25-34', '35-44', '45-64', '64+'])\n",
    "\n",
    "age_trips_df = age_ranges.value_counts().to_frame(name='# of trips').reset_index()\n",
    "age_trips_df.to_csv('camb-hubway-data/trips-by-age.csv')"
   ]
  },
  {
   "cell_type": "code",
   "execution_count": null,
   "metadata": {},
   "outputs": [],
   "source": [
    "age_ranges.value_counts(normalize=True).head()"
   ]
  },
  {
   "cell_type": "markdown",
   "metadata": {},
   "source": [
    "## Duration"
   ]
  },
  {
   "cell_type": "code",
   "execution_count": null,
   "metadata": {},
   "outputs": [],
   "source": [
    "cambridge_trips['tripduration mins'] = cambridge_trips['tripduration'].apply(lambda x: x / 60)"
   ]
  },
  {
   "cell_type": "code",
   "execution_count": null,
   "metadata": {},
   "outputs": [],
   "source": [
    "cambridge_trips['duration range'] = pd.cut(cambridge_trips['tripduration mins'], [0, 5, 10, 15, 20, 25, 30, 35, 40, 100], labels=['0-5mins', '6-10mins', '11-15mins', '16-20mins', '21-25mins', '26-30mins', '31-35mins', '36-40mins', '40+mins'])\n",
    "\n",
    "duration_groups = cambridge_trips.groupby(['duration range'])\n",
    "duration_trips_df = duration_groups.size().to_frame(name='# of trips').reset_index()\n",
    "duration_trips_df.to_csv('camb-hubway-data/trips-by-duration.csv')"
   ]
  },
  {
   "cell_type": "code",
   "execution_count": null,
   "metadata": {},
   "outputs": [],
   "source": [
    "cambridge_trips['duration range'].value_counts(normalize=True)"
   ]
  },
  {
   "cell_type": "markdown",
   "metadata": {},
   "source": [
    "## Time Series"
   ]
  },
  {
   "cell_type": "code",
   "execution_count": null,
   "metadata": {},
   "outputs": [],
   "source": [
    "trips_by_day = cambridge_trips.groupby('date').size()"
   ]
  },
  {
   "cell_type": "code",
   "execution_count": null,
   "metadata": {},
   "outputs": [],
   "source": [
    "trips_by_day_df = trips_by_day.to_frame(name='# of trips').reset_index()\n",
    "trips_by_day_df.to_csv('camb-hubway-data/trips-by-day.csv')"
   ]
  },
  {
   "cell_type": "code",
   "execution_count": null,
   "metadata": {},
   "outputs": [],
   "source": [
    "trips_by_day.plot()"
   ]
  },
  {
   "cell_type": "code",
   "execution_count": null,
   "metadata": {},
   "outputs": [],
   "source": [
    "trips_by_month = trips_by_day.resample('M').sum()"
   ]
  },
  {
   "cell_type": "code",
   "execution_count": null,
   "metadata": {},
   "outputs": [],
   "source": [
    "trips_by_year = trips_by_day.resample('Y').sum()"
   ]
  },
  {
   "cell_type": "code",
   "execution_count": null,
   "metadata": {},
   "outputs": [],
   "source": [
    "trips_by_month.plot()"
   ]
  },
  {
   "cell_type": "code",
   "execution_count": null,
   "metadata": {},
   "outputs": [],
   "source": [
    "trips_by_year.plot()"
   ]
  },
  {
   "cell_type": "code",
   "execution_count": null,
   "metadata": {},
   "outputs": [],
   "source": [
    "trips2017 = trips_by_day['2017']"
   ]
  },
  {
   "cell_type": "code",
   "execution_count": null,
   "metadata": {},
   "outputs": [],
   "source": [
    "trips2017.plot()"
   ]
  },
  {
   "cell_type": "code",
   "execution_count": null,
   "metadata": {},
   "outputs": [],
   "source": [
    "trips2017.resample('M').sum().plot()"
   ]
  },
  {
   "cell_type": "code",
   "execution_count": null,
   "metadata": {},
   "outputs": [],
   "source": [
    "trips2017['2017-07'].plot()"
   ]
  },
  {
   "cell_type": "markdown",
   "metadata": {},
   "source": [
    "Rained on July 24th 2017. Looks like it was also unseasonably cooler that day, high of 65F. Can probably see rains impact on rides.\n",
    "\n",
    "Historical weather data: wunderground.com"
   ]
  },
  {
   "cell_type": "code",
   "execution_count": null,
   "metadata": {},
   "outputs": [],
   "source": [
    "trips2017['2017-07-24']"
   ]
  },
  {
   "cell_type": "code",
   "execution_count": null,
   "metadata": {},
   "outputs": [],
   "source": [
    "trips2017['2017-07-25']"
   ]
  },
  {
   "cell_type": "code",
   "execution_count": null,
   "metadata": {},
   "outputs": [],
   "source": [
    "trips2017['2017-07-23']"
   ]
  },
  {
   "cell_type": "markdown",
   "metadata": {},
   "source": [
    "# Maps"
   ]
  },
  {
   "cell_type": "code",
   "execution_count": null,
   "metadata": {},
   "outputs": [],
   "source": [
    "# Create data frames for maps\n",
    "# Desired maps:\n",
    "# Total trips count by start/end station\n",
    "# Total morning/evening count by start/end station\n",
    "# Total weekend/weekday count by start/end station, by morning/evening"
   ]
  },
  {
   "cell_type": "code",
   "execution_count": null,
   "metadata": {},
   "outputs": [],
   "source": [
    "# round lat/long for grouping\n",
    "cambridge_trips['start station latitude'] = cambridge_trips['start station latitude'].apply(lambda x: round(x, 3))\n",
    "cambridge_trips['start station longitude'] = cambridge_trips['start station longitude'].apply(lambda x: round(x, 3))"
   ]
  },
  {
   "cell_type": "code",
   "execution_count": null,
   "metadata": {},
   "outputs": [],
   "source": [
    "cambridge_trips['end station latitude'] = cambridge_trips['end station latitude'].apply(lambda x: round(float(x), 3))\n",
    "cambridge_trips['end station longitude'] = cambridge_trips['end station longitude'].apply(lambda x: round(float(x), 3))"
   ]
  },
  {
   "cell_type": "markdown",
   "metadata": {},
   "source": [
    "## Starting Stations"
   ]
  },
  {
   "cell_type": "code",
   "execution_count": null,
   "metadata": {},
   "outputs": [],
   "source": [
    "# Total for starting stations\n",
    "start_groups = cambridge_trips.groupby(['start station name', 'start station latitude', 'start station longitude'])\n",
    "trips_by_start_station = start_groups.size().to_frame(name='# of trips').reset_index()\n",
    "trips_by_start_station = trips_by_start_station.dropna()\n",
    "trips_by_start_station = trips_by_start_station.rename(columns={\"start station name\": \"Station\", \"start station latitude\": \"lat\", \"start station longitude\": \"long\"})"
   ]
  },
  {
   "cell_type": "code",
   "execution_count": null,
   "metadata": {},
   "outputs": [],
   "source": [
    "# merge same name stations\n",
    "trips_by_start_station = trips_by_start_station.groupby(['Station']).agg({'# of trips' : np.sum, 'lat': lambda x: x.iloc[0], 'long': lambda x: x.iloc[0]}).reset_index()"
   ]
  },
  {
   "cell_type": "code",
   "execution_count": null,
   "metadata": {},
   "outputs": [],
   "source": [
    "trips_by_start_station['# of trips'].describe()"
   ]
  },
  {
   "cell_type": "code",
   "execution_count": null,
   "metadata": {},
   "outputs": [],
   "source": [
    "# start station geojson\n",
    "df_to_geojson(trips_by_start_station, filename='camb-hubway-data/start_stations.geojson',\n",
    "              properties=['Station', '# of trips'],\n",
    "              lat='lat', lon='long', precision=3)"
   ]
  },
  {
   "cell_type": "markdown",
   "metadata": {},
   "source": [
    "## End Stations"
   ]
  },
  {
   "cell_type": "code",
   "execution_count": null,
   "metadata": {},
   "outputs": [],
   "source": [
    "# Total for starting stations\n",
    "end_groups = cambridge_trips.groupby(['end station name', 'end station latitude', 'end station longitude'])\n",
    "trips_by_end_station = end_groups.size().to_frame(name='# of trips').reset_index()\n",
    "trips_by_end_station = trips_by_end_station.dropna()\n",
    "trips_by_end_station = trips_by_end_station.rename(columns={\"end station name\": \"Station\", \"end station latitude\": \"lat\", \"end station longitude\": \"long\"})"
   ]
  },
  {
   "cell_type": "code",
   "execution_count": null,
   "metadata": {},
   "outputs": [],
   "source": [
    "# merge same name stations\n",
    "trips_by_end_station = trips_by_end_station.groupby(['Station']).agg({'# of trips' : np.sum, 'lat': lambda x: x.iloc[0], 'long': lambda x: x.iloc[0]}).reset_index()"
   ]
  },
  {
   "cell_type": "code",
   "execution_count": null,
   "metadata": {},
   "outputs": [],
   "source": [
    "# end station geojson\n",
    "df_to_geojson(trips_by_end_station, filename='camb-hubway-data/end_stations.geojson',\n",
    "              properties=['Station', '# of trips'],\n",
    "              lat='lat', lon='long', precision=3)"
   ]
  },
  {
   "cell_type": "markdown",
   "metadata": {},
   "source": [
    "## Morning Trips"
   ]
  },
  {
   "cell_type": "markdown",
   "metadata": {},
   "source": [
    "### Start Stations"
   ]
  },
  {
   "cell_type": "code",
   "execution_count": null,
   "metadata": {},
   "outputs": [],
   "source": [
    "# Total for starting stations\n",
    "morning_start_groups = cambridge_trips[(cambridge_trips['morning trip'] == True)].groupby(['start station name', 'start station latitude', 'start station longitude'])\n",
    "morning_trips_by_start_station = morning_start_groups.size().to_frame(name='# of trips').reset_index()\n",
    "morning_trips_by_start_station = morning_trips_by_start_station.dropna()\n",
    "morning_trips_by_start_station = morning_trips_by_start_station.rename(columns={\"start station name\": \"Station\", \"start station latitude\": \"lat\", \"start station longitude\": \"long\"})"
   ]
  },
  {
   "cell_type": "code",
   "execution_count": null,
   "metadata": {},
   "outputs": [],
   "source": [
    "# merge same name stations\n",
    "morning_trips_by_start_station = morning_trips_by_start_station.groupby(['Station']).agg({'# of trips' : np.sum, 'lat': lambda x: x.iloc[0], 'long': lambda x: x.iloc[0]}).reset_index()"
   ]
  },
  {
   "cell_type": "code",
   "execution_count": null,
   "metadata": {},
   "outputs": [],
   "source": [
    "# morning start station geojson\n",
    "df_to_geojson(morning_trips_by_start_station, filename='camb-hubway-data/morning_start_stations.geojson',\n",
    "              properties=['Station', '# of trips'],\n",
    "              lat='lat', lon='long', precision=3)"
   ]
  },
  {
   "cell_type": "markdown",
   "metadata": {},
   "source": [
    "### End Stations"
   ]
  },
  {
   "cell_type": "code",
   "execution_count": null,
   "metadata": {},
   "outputs": [],
   "source": [
    "# Total for ending stations\n",
    "morning_end_groups = cambridge_trips[(cambridge_trips['morning trip'] == True)].groupby(['end station name', 'end station latitude', 'end station longitude'])\n",
    "morning_trips_by_end_station = morning_end_groups.size().to_frame(name='# of trips').reset_index()\n",
    "morning_trips_by_end_station = morning_trips_by_end_station.dropna()\n",
    "morning_trips_by_end_station = morning_trips_by_end_station.rename(columns={\"end station name\": \"Station\", \"end station latitude\": \"lat\", \"end station longitude\": \"long\"})"
   ]
  },
  {
   "cell_type": "code",
   "execution_count": null,
   "metadata": {},
   "outputs": [],
   "source": [
    "# merge same name stations\n",
    "morning_trips_by_end_station = morning_trips_by_end_station.groupby(['Station']).agg({'# of trips' : np.sum, 'lat': lambda x: x.iloc[0], 'long': lambda x: x.iloc[0]}).reset_index()"
   ]
  },
  {
   "cell_type": "code",
   "execution_count": null,
   "metadata": {},
   "outputs": [],
   "source": [
    "# morning end station geojson\n",
    "df_to_geojson(morning_trips_by_end_station, filename='camb-hubway-data/morning_end_stations.geojson',\n",
    "              properties=['Station', '# of trips'],\n",
    "              lat='lat', lon='long', precision=3)"
   ]
  },
  {
   "cell_type": "markdown",
   "metadata": {
    "collapsed": true
   },
   "source": [
    "## Evening Trips"
   ]
  },
  {
   "cell_type": "markdown",
   "metadata": {},
   "source": [
    "### Start Stations"
   ]
  },
  {
   "cell_type": "code",
   "execution_count": null,
   "metadata": {},
   "outputs": [],
   "source": [
    "# Total for starting stations\n",
    "evening_start_groups = cambridge_trips[(cambridge_trips['morning trip'] == False)].groupby(['start station name', 'start station latitude', 'start station longitude'])\n",
    "evening_trips_by_start_station = evening_start_groups.size().to_frame(name='# of trips').reset_index()\n",
    "evening_trips_by_start_station = evening_trips_by_start_station.dropna()\n",
    "evening_trips_by_start_station = evening_trips_by_start_station.rename(columns={\"start station name\": \"Station\", \"start station latitude\": \"lat\", \"start station longitude\": \"long\"})"
   ]
  },
  {
   "cell_type": "code",
   "execution_count": null,
   "metadata": {},
   "outputs": [],
   "source": [
    "# merge same name stations\n",
    "evening_trips_by_start_station = evening_trips_by_start_station.groupby(['Station']).agg({'# of trips' : np.sum, 'lat': lambda x: x.iloc[0], 'long': lambda x: x.iloc[0]}).reset_index()"
   ]
  },
  {
   "cell_type": "code",
   "execution_count": null,
   "metadata": {},
   "outputs": [],
   "source": [
    "# evening start station geojson\n",
    "df_to_geojson(evening_trips_by_start_station, filename='camb-hubway-data/evening_start_stations.geojson',\n",
    "              properties=['Station', '# of trips'],\n",
    "              lat='lat', lon='long', precision=3)"
   ]
  },
  {
   "cell_type": "markdown",
   "metadata": {},
   "source": [
    "### End Stations"
   ]
  },
  {
   "cell_type": "code",
   "execution_count": null,
   "metadata": {},
   "outputs": [],
   "source": [
    "# Total for ending stations\n",
    "evening_end_groups = cambridge_trips[(cambridge_trips['morning trip'] == False)].groupby(['end station name', 'end station latitude', 'end station longitude'])\n",
    "evening_trips_by_end_station = evening_end_groups.size().to_frame(name='# of trips').reset_index()\n",
    "evening_trips_by_end_station = evening_trips_by_end_station.dropna()\n",
    "evening_trips_by_end_station = evening_trips_by_end_station.rename(columns={\"end station name\": \"Station\", \"end station latitude\": \"lat\", \"end station longitude\": \"long\"})"
   ]
  },
  {
   "cell_type": "code",
   "execution_count": null,
   "metadata": {},
   "outputs": [],
   "source": [
    "# merge same name stations\n",
    "evening_trips_by_end_station = evening_trips_by_end_station.groupby(['Station']).agg({'# of trips' : np.sum, 'lat': lambda x: x.iloc[0], 'long': lambda x: x.iloc[0]}).reset_index()"
   ]
  },
  {
   "cell_type": "code",
   "execution_count": null,
   "metadata": {},
   "outputs": [],
   "source": [
    "# morning end station geojson\n",
    "df_to_geojson(evening_trips_by_end_station, filename='camb-hubway-data/evening_end_stations.geojson',\n",
    "              properties=['Station', '# of trips'],\n",
    "              lat='lat', lon='long', precision=3)"
   ]
  },
  {
   "cell_type": "markdown",
   "metadata": {},
   "source": [
    "## Weekend vs Weekday"
   ]
  },
  {
   "cell_type": "markdown",
   "metadata": {},
   "source": [
    "## Weekday"
   ]
  },
  {
   "cell_type": "markdown",
   "metadata": {},
   "source": [
    "### Start Stations"
   ]
  },
  {
   "cell_type": "code",
   "execution_count": null,
   "metadata": {},
   "outputs": [],
   "source": [
    "# Total for starting stations\n",
    "weekday_start_groups = cambridge_trips[(cambridge_trips['weekday trip'] == True)].groupby(['start station name', 'start station latitude', 'start station longitude'])\n",
    "weekday_trips_by_start_station = weekday_start_groups.size().to_frame(name='# of trips').reset_index()\n",
    "weekday_trips_by_start_station = weekday_trips_by_start_station.dropna()\n",
    "weekday_trips_by_start_station = weekday_trips_by_start_station.rename(columns={\"start station name\": \"Station\", \"start station latitude\": \"lat\", \"start station longitude\": \"long\"})"
   ]
  },
  {
   "cell_type": "code",
   "execution_count": null,
   "metadata": {},
   "outputs": [],
   "source": [
    "# merge same name stations\n",
    "weekday_trips_by_start_station = weekday_trips_by_start_station.groupby(['Station']).agg({'# of trips' : np.sum, 'lat': lambda x: x.iloc[0], 'long': lambda x: x.iloc[0]}).reset_index()"
   ]
  },
  {
   "cell_type": "code",
   "execution_count": null,
   "metadata": {},
   "outputs": [],
   "source": [
    "# weekday start station geojson\n",
    "df_to_geojson(weekday_trips_by_start_station, filename='camb-hubway-data/weekday_start_stations.geojson',\n",
    "              properties=['Station', '# of trips'],\n",
    "              lat='lat', lon='long', precision=3)"
   ]
  },
  {
   "cell_type": "markdown",
   "metadata": {},
   "source": [
    "#### Morning"
   ]
  },
  {
   "cell_type": "code",
   "execution_count": null,
   "metadata": {},
   "outputs": [],
   "source": [
    "# Total for starting stations\n",
    "weekday_morning_start_groups = cambridge_trips[(cambridge_trips['weekday trip'] == True) & (cambridge_trips['morning trip'] == True)].groupby(['start station name', 'start station latitude', 'start station longitude'])\n",
    "weekday_morning_trips_by_start_station = weekday_morning_start_groups.size().to_frame(name='# of trips').reset_index()\n",
    "weekday_morning_trips_by_start_station = weekday_morning_trips_by_start_station.dropna()\n",
    "weekday_morning_trips_by_start_station = weekday_morning_trips_by_start_station.rename(columns={\"start station name\": \"Station\", \"start station latitude\": \"lat\", \"start station longitude\": \"long\"})"
   ]
  },
  {
   "cell_type": "code",
   "execution_count": null,
   "metadata": {},
   "outputs": [],
   "source": [
    "# merge same name stations\n",
    "weekday_morning_trips_by_start_station = weekday_morning_trips_by_start_station.groupby(['Station']).agg({'# of trips' : np.sum, 'lat': lambda x: x.iloc[0], 'long': lambda x: x.iloc[0]}).reset_index()"
   ]
  },
  {
   "cell_type": "code",
   "execution_count": null,
   "metadata": {},
   "outputs": [],
   "source": [
    "# weekday morning start station geojson\n",
    "df_to_geojson(weekday_morning_trips_by_start_station, filename='camb-hubway-data/weekday_morning_start_stations.geojson',\n",
    "              properties=['Station', '# of trips'],\n",
    "              lat='lat', lon='long', precision=3)"
   ]
  },
  {
   "cell_type": "markdown",
   "metadata": {},
   "source": [
    "#### Evening"
   ]
  },
  {
   "cell_type": "code",
   "execution_count": null,
   "metadata": {},
   "outputs": [],
   "source": [
    "# Total for starting stations\n",
    "weekday_evening_start_groups = cambridge_trips[(cambridge_trips['weekday trip'] == True) & (cambridge_trips['morning trip'] == False)].groupby(['start station name', 'start station latitude', 'start station longitude'])\n",
    "weekday_evening_trips_by_start_station = weekday_evening_start_groups.size().to_frame(name='# of trips').reset_index()\n",
    "weekday_evening_trips_by_start_station = weekday_evening_trips_by_start_station.dropna()\n",
    "weekday_evening_trips_by_start_station = weekday_evening_trips_by_start_station.rename(columns={\"start station name\": \"Station\", \"start station latitude\": \"lat\", \"start station longitude\": \"long\"})"
   ]
  },
  {
   "cell_type": "code",
   "execution_count": null,
   "metadata": {},
   "outputs": [],
   "source": [
    "# merge same name stations\n",
    "weekday_evening_trips_by_start_station = weekday_evening_trips_by_start_station.groupby(['Station']).agg({'# of trips' : np.sum, 'lat': lambda x: x.iloc[0], 'long': lambda x: x.iloc[0]}).reset_index()"
   ]
  },
  {
   "cell_type": "code",
   "execution_count": null,
   "metadata": {},
   "outputs": [],
   "source": [
    "# weekday evening start station geojson\n",
    "df_to_geojson(weekday_evening_trips_by_start_station, filename='camb-hubway-data/weekday_evening_start_stations.geojson',\n",
    "              properties=['Station', '# of trips'],\n",
    "              lat='lat', lon='long', precision=3)"
   ]
  },
  {
   "cell_type": "markdown",
   "metadata": {},
   "source": [
    "### End Stations"
   ]
  },
  {
   "cell_type": "code",
   "execution_count": null,
   "metadata": {},
   "outputs": [],
   "source": [
    "# Total for ending stations\n",
    "weekday_end_groups = cambridge_trips[(cambridge_trips['weekday trip'] == True)].groupby(['end station name', 'end station latitude', 'end station longitude'])\n",
    "weekday_trips_by_end_station = weekday_end_groups.size().to_frame(name='# of trips').reset_index()\n",
    "weekday_trips_by_end_station = weekday_trips_by_end_station.dropna()\n",
    "weekday_trips_by_end_station = weekday_trips_by_end_station.rename(columns={\"end station name\": \"Station\", \"end station latitude\": \"lat\", \"end station longitude\": \"long\"})"
   ]
  },
  {
   "cell_type": "code",
   "execution_count": null,
   "metadata": {},
   "outputs": [],
   "source": [
    "# merge same name stations\n",
    "weekday_trips_by_end_station = weekday_trips_by_end_station.groupby(['Station']).agg({'# of trips' : np.sum, 'lat': lambda x: x.iloc[0], 'long': lambda x: x.iloc[0]}).reset_index()"
   ]
  },
  {
   "cell_type": "code",
   "execution_count": null,
   "metadata": {},
   "outputs": [],
   "source": [
    "# weekday end station geojson\n",
    "df_to_geojson(weekday_trips_by_end_station, filename='camb-hubway-data/weekday_end_stations.geojson',\n",
    "              properties=['Station', '# of trips'],\n",
    "              lat='lat', lon='long', precision=3)"
   ]
  },
  {
   "cell_type": "markdown",
   "metadata": {},
   "source": [
    "#### Morning"
   ]
  },
  {
   "cell_type": "code",
   "execution_count": null,
   "metadata": {},
   "outputs": [],
   "source": [
    "# Total for ending stations\n",
    "weekday_morning_end_groups = cambridge_trips[(cambridge_trips['weekday trip'] == True) & (cambridge_trips['morning trip'] == True)].groupby(['end station name', 'end station latitude', 'end station longitude'])\n",
    "weekday_morning_trips_by_end_station = weekday_morning_end_groups.size().to_frame(name='# of trips').reset_index()\n",
    "weekday_morning_trips_by_end_station = weekday_morning_trips_by_end_station.dropna()\n",
    "weekday_morning_trips_by_end_station = weekday_morning_trips_by_end_station.rename(columns={\"end station name\": \"Station\", \"end station latitude\": \"lat\", \"end station longitude\": \"long\"})"
   ]
  },
  {
   "cell_type": "code",
   "execution_count": null,
   "metadata": {},
   "outputs": [],
   "source": [
    "# merge same name stations\n",
    "weekday_morning_trips_by_end_station = weekday_morning_trips_by_end_station.groupby(['Station']).agg({'# of trips' : np.sum, 'lat': lambda x: x.iloc[0], 'long': lambda x: x.iloc[0]}).reset_index()"
   ]
  },
  {
   "cell_type": "code",
   "execution_count": null,
   "metadata": {},
   "outputs": [],
   "source": [
    "# weekday morning start station geojson\n",
    "df_to_geojson(weekday_morning_trips_by_end_station, filename='camb-hubway-data/weekday_morning_end_stations.geojson',\n",
    "              properties=['Station', '# of trips'],\n",
    "              lat='lat', lon='long', precision=3)"
   ]
  },
  {
   "cell_type": "markdown",
   "metadata": {},
   "source": [
    "#### Evening"
   ]
  },
  {
   "cell_type": "code",
   "execution_count": null,
   "metadata": {},
   "outputs": [],
   "source": [
    "# Total for ending stations\n",
    "weekday_evening_end_groups = cambridge_trips[(cambridge_trips['weekday trip'] == True) & (cambridge_trips['morning trip'] == False)].groupby(['end station name', 'end station latitude', 'end station longitude'])\n",
    "weekday_evening_trips_by_end_station = weekday_evening_end_groups.size().to_frame(name='# of trips').reset_index()\n",
    "weekday_evening_trips_by_end_station = weekday_evening_trips_by_end_station.dropna()\n",
    "weekday_evening_trips_by_end_station = weekday_evening_trips_by_end_station.rename(columns={\"end station name\": \"Station\", \"end station latitude\": \"lat\", \"end station longitude\": \"long\"})"
   ]
  },
  {
   "cell_type": "code",
   "execution_count": null,
   "metadata": {},
   "outputs": [],
   "source": [
    "# merge same name stations\n",
    "weekday_evening_trips_by_end_station = weekday_evening_trips_by_end_station.groupby(['Station']).agg({'# of trips' : np.sum, 'lat': lambda x: x.iloc[0], 'long': lambda x: x.iloc[0]}).reset_index()"
   ]
  },
  {
   "cell_type": "code",
   "execution_count": null,
   "metadata": {},
   "outputs": [],
   "source": [
    "# weekday end station geojson\n",
    "df_to_geojson(weekday_evening_trips_by_end_station, filename='camb-hubway-data/weekday_evening_end_stations.geojson',\n",
    "              properties=['Station', '# of trips'],\n",
    "              lat='lat', lon='long', precision=3)"
   ]
  },
  {
   "cell_type": "markdown",
   "metadata": {},
   "source": [
    "## Weekend"
   ]
  },
  {
   "cell_type": "markdown",
   "metadata": {},
   "source": [
    "## Start Stations"
   ]
  },
  {
   "cell_type": "code",
   "execution_count": null,
   "metadata": {},
   "outputs": [],
   "source": [
    "# Total for starting stations\n",
    "weekend_start_groups = cambridge_trips[(cambridge_trips['weekday trip'] == False)].groupby(['start station name', 'start station latitude', 'start station longitude'])\n",
    "weekend_trips_by_start_station = weekend_start_groups.size().to_frame(name='# of trips').reset_index()\n",
    "weekend_trips_by_start_station = weekend_trips_by_start_station.dropna()\n",
    "weekend_trips_by_start_station = weekend_trips_by_start_station.rename(columns={\"start station name\": \"Station\", \"start station latitude\": \"lat\", \"start station longitude\": \"long\"})"
   ]
  },
  {
   "cell_type": "code",
   "execution_count": null,
   "metadata": {},
   "outputs": [],
   "source": [
    "# merge same name stations\n",
    "weekend_trips_by_start_station = weekend_trips_by_start_station.groupby(['Station']).agg({'# of trips' : np.sum, 'lat': lambda x: x.iloc[0], 'long': lambda x: x.iloc[0]}).reset_index()"
   ]
  },
  {
   "cell_type": "code",
   "execution_count": null,
   "metadata": {},
   "outputs": [],
   "source": [
    "# weekend start station geojson\n",
    "df_to_geojson(weekend_trips_by_start_station, filename='camb-hubway-data/weekend_start_stations.geojson',\n",
    "              properties=['Station', '# of trips'],\n",
    "              lat='lat', lon='long', precision=3)"
   ]
  },
  {
   "cell_type": "markdown",
   "metadata": {},
   "source": [
    "### Morning"
   ]
  },
  {
   "cell_type": "code",
   "execution_count": null,
   "metadata": {},
   "outputs": [],
   "source": [
    "# Total for starting stations\n",
    "weekend_morning_start_groups = cambridge_trips[(cambridge_trips['weekday trip'] == False) & (cambridge_trips['morning trip'] == True)].groupby(['start station name', 'start station latitude', 'start station longitude'])\n",
    "weekend_morning_trips_by_start_station = weekend_morning_start_groups.size().to_frame(name='# of trips').reset_index()\n",
    "weekend_morning_trips_by_start_station = weekend_morning_trips_by_start_station.dropna()\n",
    "weekend_morning_trips_by_start_station = weekend_morning_trips_by_start_station.rename(columns={\"start station name\": \"Station\", \"start station latitude\": \"lat\", \"start station longitude\": \"long\"})"
   ]
  },
  {
   "cell_type": "code",
   "execution_count": null,
   "metadata": {},
   "outputs": [],
   "source": [
    "# merge same name stations\n",
    "weekend_morning_trips_by_start_station = weekend_morning_trips_by_start_station.groupby(['Station']).agg({'# of trips' : np.sum, 'lat': lambda x: x.iloc[0], 'long': lambda x: x.iloc[0]}).reset_index()"
   ]
  },
  {
   "cell_type": "code",
   "execution_count": null,
   "metadata": {},
   "outputs": [],
   "source": [
    "# weekend morning start station geojson\n",
    "df_to_geojson(weekend_morning_trips_by_start_station, filename='camb-hubway-data/weekend_morning_start_stations.geojson',\n",
    "              properties=['Station', '# of trips'],\n",
    "              lat='lat', lon='long', precision=3)"
   ]
  },
  {
   "cell_type": "markdown",
   "metadata": {},
   "source": [
    "### Evening"
   ]
  },
  {
   "cell_type": "code",
   "execution_count": null,
   "metadata": {},
   "outputs": [],
   "source": [
    "# Total for starting stations\n",
    "weekend_evening_start_groups = cambridge_trips[(cambridge_trips['weekday trip'] == False) & (cambridge_trips['morning trip'] == False)].groupby(['start station name', 'start station latitude', 'start station longitude'])\n",
    "weekend_evening_trips_by_start_station = weekend_evening_start_groups.size().to_frame(name='# of trips').reset_index()\n",
    "weekend_evening_trips_by_start_station = weekend_evening_trips_by_start_station.dropna()\n",
    "weekend_evening_trips_by_start_station = weekend_evening_trips_by_start_station.rename(columns={\"start station name\": \"Station\", \"start station latitude\": \"lat\", \"start station longitude\": \"long\"})"
   ]
  },
  {
   "cell_type": "code",
   "execution_count": null,
   "metadata": {},
   "outputs": [],
   "source": [
    "# merge same name stations\n",
    "weekend_evening_trips_by_start_station = weekend_evening_trips_by_start_station.groupby(['Station']).agg({'# of trips' : np.sum, 'lat': lambda x: x.iloc[0], 'long': lambda x: x.iloc[0]}).reset_index()"
   ]
  },
  {
   "cell_type": "code",
   "execution_count": null,
   "metadata": {},
   "outputs": [],
   "source": [
    "# weekend evening start station geojson\n",
    "df_to_geojson(weekend_evening_trips_by_start_station, filename='camb-hubway-data/weekend_evening_start_stations.geojson',\n",
    "              properties=['Station', '# of trips'],\n",
    "              lat='lat', lon='long', precision=3)"
   ]
  },
  {
   "cell_type": "markdown",
   "metadata": {},
   "source": [
    "## End Stations"
   ]
  },
  {
   "cell_type": "code",
   "execution_count": null,
   "metadata": {},
   "outputs": [],
   "source": [
    "# Total for starting stations\n",
    "weekend_end_groups = cambridge_trips[(cambridge_trips['weekday trip'] == False)].groupby(['end station name', 'end station latitude', 'end station longitude'])\n",
    "weekend_trips_by_end_station = weekend_end_groups.size().to_frame(name='# of trips').reset_index()\n",
    "weekend_trips_by_end_station = weekend_trips_by_end_station.dropna()\n",
    "weekend_trips_by_end_station = weekend_trips_by_end_station.rename(columns={\"end station name\": \"Station\", \"end station latitude\": \"lat\", \"end station longitude\": \"long\"})"
   ]
  },
  {
   "cell_type": "code",
   "execution_count": null,
   "metadata": {},
   "outputs": [],
   "source": [
    "# merge same name stations\n",
    "weekend_trips_by_end_station = weekend_trips_by_end_station.groupby(['Station']).agg({'# of trips' : np.sum, 'lat': lambda x: x.iloc[0], 'long': lambda x: x.iloc[0]}).reset_index()"
   ]
  },
  {
   "cell_type": "code",
   "execution_count": null,
   "metadata": {},
   "outputs": [],
   "source": [
    "# weekend end station geojson\n",
    "df_to_geojson(weekend_trips_by_end_station, filename='camb-hubway-data/weekend_end_stations.geojson',\n",
    "              properties=['Station', '# of trips'],\n",
    "              lat='lat', lon='long', precision=3)"
   ]
  },
  {
   "cell_type": "markdown",
   "metadata": {},
   "source": [
    "### Morning"
   ]
  },
  {
   "cell_type": "code",
   "execution_count": null,
   "metadata": {},
   "outputs": [],
   "source": [
    "# Total for ending stations\n",
    "weekend_morning_end_groups = cambridge_trips[(cambridge_trips['weekday trip'] == False) & (cambridge_trips['morning trip'] == True)].groupby(['end station name', 'end station latitude', 'end station longitude'])\n",
    "weekend_morning_trips_by_end_station = weekend_morning_end_groups.size().to_frame(name='# of trips').reset_index()\n",
    "weekend_morning_trips_by_end_station = weekend_morning_trips_by_end_station.dropna()\n",
    "weekend_morning_trips_by_end_station = weekend_morning_trips_by_end_station.rename(columns={\"end station name\": \"Station\", \"end station latitude\": \"lat\", \"end station longitude\": \"long\"})"
   ]
  },
  {
   "cell_type": "code",
   "execution_count": null,
   "metadata": {},
   "outputs": [],
   "source": [
    "# merge same name stations\n",
    "weekend_morning_trips_by_end_station = weekend_morning_trips_by_end_station.groupby(['Station']).agg({'# of trips' : np.sum, 'lat': lambda x: x.iloc[0], 'long': lambda x: x.iloc[0]}).reset_index()"
   ]
  },
  {
   "cell_type": "code",
   "execution_count": null,
   "metadata": {},
   "outputs": [],
   "source": [
    "# weekend morning start station geojson\n",
    "df_to_geojson(weekend_morning_trips_by_end_station, filename='camb-hubway-data/weekend_morning_end_stations.geojson',\n",
    "              properties=['Station', '# of trips'],\n",
    "              lat='lat', lon='long', precision=3)"
   ]
  },
  {
   "cell_type": "markdown",
   "metadata": {},
   "source": [
    "## Evening"
   ]
  },
  {
   "cell_type": "code",
   "execution_count": null,
   "metadata": {},
   "outputs": [],
   "source": [
    "# Total for ending stations\n",
    "weekend_evening_end_groups = cambridge_trips[(cambridge_trips['weekday trip'] == False) & (cambridge_trips['morning trip'] == False)].groupby(['end station name', 'end station latitude', 'end station longitude'])\n",
    "weekend_evening_trips_by_end_station = weekend_evening_end_groups.size().to_frame(name='# of trips').reset_index()\n",
    "weekend_evening_trips_by_end_station = weekend_evening_trips_by_end_station.dropna()\n",
    "weekend_evening_trips_by_end_station = weekend_evening_trips_by_end_station.rename(columns={\"end station name\": \"Station\", \"end station latitude\": \"lat\", \"end station longitude\": \"long\"})"
   ]
  },
  {
   "cell_type": "code",
   "execution_count": null,
   "metadata": {},
   "outputs": [],
   "source": [
    "# merge same name stations\n",
    "weekend_evening_trips_by_end_station = weekend_evening_trips_by_end_station.groupby(['Station']).agg({'# of trips' : np.sum, 'lat': lambda x: x.iloc[0], 'long': lambda x: x.iloc[0]}).reset_index()"
   ]
  },
  {
   "cell_type": "code",
   "execution_count": null,
   "metadata": {},
   "outputs": [],
   "source": [
    "# weekend end station geojson\n",
    "df_to_geojson(weekend_evening_trips_by_end_station, filename='camb-hubway-data/weekend_evening_end_stations.geojson',\n",
    "              properties=['Station', '# of trips'],\n",
    "              lat='lat', lon='long', precision=3)"
   ]
  },
  {
   "cell_type": "markdown",
   "metadata": {},
   "source": [
    "## Trips\n",
    "Trip maps should have lines between stations, the color of the line should represent whether it's a coming or going trip, and the thickness or opacity of the line should represent the frequency of that particular trip. They should be able to be filtered by weekend, weekday, morning, and evening."
   ]
  },
  {
   "cell_type": "code",
   "execution_count": null,
   "metadata": {},
   "outputs": [],
   "source": [
    "def row_to_line_geojson(row, origin_long, origin_lat, dest_long, dest_lat):\n",
    "    # Let pandas handle json serialization\n",
    "    row_json = json.loads(row.to_json(date_format='epoch', date_unit='s'))\n",
    "    return geojson.Feature(geometry=geojson.LineString([(row_json[origin_long], row_json[origin_lat]), (row_json[dest_long], row_json[dest_lat])]),\n",
    "                           properties={key: row_json[key] for key in row_json.keys() if key not in [origin_long, origin_lat, dest_long, dest_lat]})\n",
    "\n",
    "\n",
    "def df_to_line_geojson(df, properties=None, origin_lat='lat', origin_long='long', dest_lat='lat', dest_long='long', filename=None):\n",
    "    if filename:\n",
    "        with open(filename, 'w+') as f:\n",
    "            # Overwrite file if it already exists\n",
    "            pass\n",
    "\n",
    "        with open(filename, 'a+') as f:\n",
    "            features = []\n",
    "            df[[origin_long, origin_lat, dest_long, dest_lat] + properties].apply(lambda x: features.append(\n",
    "                row_to_line_geojson(x, origin_long, origin_lat, dest_long, dest_lat)), axis=1)\n",
    "\n",
    "            f.write('{\"type\": \"FeatureCollection\", \"features\": [\\n')\n",
    "            for idx, feat in enumerate(features):\n",
    "                if idx == 0:\n",
    "                    f.write(geojson.dumps(feat) + '\\n')\n",
    "                else:\n",
    "                    f.write(',' + geojson.dumps(feat) + '\\n')\n",
    "            f.write(']}')\n",
    "\n",
    "            return {\n",
    "                \"type\": \"file\",\n",
    "                \"filename\": filename,\n",
    "                \"feature_count\": len(features)\n",
    "            }\n"
   ]
  },
  {
   "cell_type": "code",
   "execution_count": null,
   "metadata": {},
   "outputs": [],
   "source": [
    "# Totals for trips\n",
    "trip_groups = cambridge_trips.groupby(['start station name', 'end station name'])\n",
    "trip_counts = trip_groups.size().to_frame(name=\"# of trips\")\n",
    "trips_df = trip_counts.join(trip_groups.agg({\n",
    "    'start station latitude': lambda x: x.iloc[0],\n",
    "    'start station longitude': lambda x: x.iloc[0],\n",
    "    'end station latitude': lambda x: x.iloc[0],\n",
    "    'end station longitude': lambda x: x.iloc[0]\n",
    "})).reset_index()"
   ]
  },
  {
   "cell_type": "code",
   "execution_count": null,
   "metadata": {},
   "outputs": [],
   "source": [
    "# trip geojson\n",
    "df_to_line_geojson(trips_df, filename='camb-hubway-data/trips.geojson',\n",
    "              properties=['start station name', 'end station name', '# of trips'],\n",
    "              origin_lat='start station latitude', origin_long='start station longitude', dest_lat='end station latitude', dest_long='end station longitude')"
   ]
  },
  {
   "cell_type": "code",
   "execution_count": null,
   "metadata": {},
   "outputs": [],
   "source": [
    "# Totals for weekday/weekend trips\n",
    "week_trip_groups = cambridge_trips.groupby(['start station name', 'end station name', 'weekday trip'])\n",
    "week_trip_counts = week_trip_groups.size().to_frame(name=\"# of trips\")\n",
    "week_trips_df = week_trip_counts.join(week_trip_groups.agg({\n",
    "    'start station latitude': lambda x: x.iloc[0],\n",
    "    'start station longitude': lambda x: x.iloc[0],\n",
    "    'end station latitude': lambda x: x.iloc[0],\n",
    "    'end station longitude': lambda x: x.iloc[0]\n",
    "})).reset_index()"
   ]
  },
  {
   "cell_type": "code",
   "execution_count": null,
   "metadata": {},
   "outputs": [],
   "source": [
    "# trip geojson\n",
    "df_to_line_geojson(week_trips_df, filename='camb-hubway-data/week_trips.geojson',\n",
    "              properties=['start station name', 'end station name', '# of trips', 'weekday trip'],\n",
    "              origin_lat='start station latitude', origin_long='start station longitude', dest_lat='end station latitude', dest_long='end station longitude')"
   ]
  },
  {
   "cell_type": "code",
   "execution_count": null,
   "metadata": {},
   "outputs": [],
   "source": [
    "# Totals for morning/evening trips\n",
    "time_trip_groups = cambridge_trips.groupby(['start station name', 'end station name', 'morning trip'])\n",
    "time_trip_counts = time_trip_groups.size().to_frame(name=\"# of trips\")\n",
    "time_trips_df = time_trip_counts.join(time_trip_groups.agg({\n",
    "    'start station latitude': lambda x: x.iloc[0],\n",
    "    'start station longitude': lambda x: x.iloc[0],\n",
    "    'end station latitude': lambda x: x.iloc[0],\n",
    "    'end station longitude': lambda x: x.iloc[0]\n",
    "})).reset_index()"
   ]
  },
  {
   "cell_type": "code",
   "execution_count": null,
   "metadata": {},
   "outputs": [],
   "source": [
    "# trip geojson\n",
    "df_to_line_geojson(time_trips_df, filename='camb-hubway-data/time_trips.geojson',\n",
    "              properties=['start station name', 'end station name', '# of trips', 'morning trip'],\n",
    "              origin_lat='start station latitude', origin_long='start station longitude', dest_lat='end station latitude', dest_long='end station longitude')"
   ]
  },
  {
   "cell_type": "code",
   "execution_count": null,
   "metadata": {},
   "outputs": [],
   "source": [
    "# Totals for weekday/weekend and morning/evening trips\n",
    "week_time_trip_groups = cambridge_trips.groupby(['start station name', 'end station name', 'weekday trip', 'morning trip'])\n",
    "week_time_trip_counts = week_time_trip_groups.size().to_frame(name=\"# of trips\")\n",
    "week_time_trips_df = week_time_trip_counts.join(week_time_trip_groups.agg({\n",
    "    'start station latitude': lambda x: x.iloc[0],\n",
    "    'start station longitude': lambda x: x.iloc[0],\n",
    "    'end station latitude': lambda x: x.iloc[0],\n",
    "    'end station longitude': lambda x: x.iloc[0]\n",
    "})).reset_index()"
   ]
  },
  {
   "cell_type": "code",
   "execution_count": null,
   "metadata": {},
   "outputs": [],
   "source": [
    "# trip geojson\n",
    "df_to_line_geojson(week_time_trips_df, filename='camb-hubway-data/week_time_trips.geojson',\n",
    "              properties=['start station name', 'end station name', '# of trips', 'weekday trip', 'morning trip'],\n",
    "              origin_lat='start station latitude', origin_long='start station longitude', dest_lat='end station latitude', dest_long='end station longitude')"
   ]
  },
  {
   "cell_type": "code",
   "execution_count": null,
   "metadata": {},
   "outputs": [],
   "source": []
  }
 ],
 "metadata": {
  "kernelspec": {
   "display_name": "Python 3",
   "language": "python",
   "name": "python3"
  },
  "language_info": {
   "codemirror_mode": {
    "name": "ipython",
    "version": 3
   },
   "file_extension": ".py",
   "mimetype": "text/x-python",
   "name": "python",
   "nbconvert_exporter": "python",
   "pygments_lexer": "ipython3",
   "version": "3.6.4"
  }
 },
 "nbformat": 4,
 "nbformat_minor": 2
}
